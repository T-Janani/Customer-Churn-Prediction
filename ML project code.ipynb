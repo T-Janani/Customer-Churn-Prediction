{
 "cells": [
  {
   "cell_type": "code",
   "execution_count": 1,
   "metadata": {},
   "outputs": [],
   "source": [
    "# Importing the libraries\n",
    "\n",
    "import numpy as np\n",
    "import matplotlib.pyplot as plt\n",
    "import pandas as pd\n"
   ]
  },
  {
   "cell_type": "code",
   "execution_count": 2,
   "metadata": {},
   "outputs": [],
   "source": [
    "# Importing the training dataset\n",
    "\n",
    "df_train = pd.read_csv('churn_train.txt')\n",
    "x_train= df_train.iloc[:,:-1].values\n",
    "y_train= df_train.iloc[:,-1].values\n"
   ]
  },
  {
   "cell_type": "code",
   "execution_count": 3,
   "metadata": {},
   "outputs": [],
   "source": [
    "# Importing the testing dataset\n",
    "\n",
    "df_test = pd.read_csv('churn_test.txt')\n",
    "x_test= df_test.iloc[:,:-1].values\n",
    "y_test= df_test.iloc[:,-1].values"
   ]
  },
  {
   "cell_type": "code",
   "execution_count": 4,
   "metadata": {},
   "outputs": [],
   "source": [
    "# Importing library for encoding the strings\n",
    "\n",
    "from sklearn.preprocessing import LabelEncoder,OneHotEncoder\n",
    "labelencoder_x=LabelEncoder()"
   ]
  },
  {
   "cell_type": "code",
   "execution_count": 5,
   "metadata": {},
   "outputs": [],
   "source": [
    "# Encoding the 2nd , 3rd & 4th column of train dataset\n",
    "\n",
    "x_train[:,2]=labelencoder_x.fit_transform(x_train[:,2])\n",
    "x_train[:,3]=labelencoder_x.fit_transform(x_train[:,3])\n",
    "x_train[:,4]=labelencoder_x.fit_transform(x_train[:,4])"
   ]
  },
  {
   "cell_type": "code",
   "execution_count": 6,
   "metadata": {},
   "outputs": [],
   "source": [
    "# Encoding the 2nd , 3rd & 4th column of test dataset\n",
    "\n",
    "x_test[:,2]=labelencoder_x.fit_transform(x_test[:,2])\n",
    "x_test[:,3]=labelencoder_x.fit_transform(x_test[:,3])\n",
    "x_test[:,4]=labelencoder_x.fit_transform(x_test[:,4])"
   ]
  },
  {
   "cell_type": "code",
   "execution_count": 7,
   "metadata": {},
   "outputs": [
    {
     "name": "stderr",
     "output_type": "stream",
     "text": [
      "C:\\anaconda\\lib\\site-packages\\sklearn\\utils\\validation.py:475: DataConversionWarning: Data with input dtype object was converted to float64 by StandardScaler.\n",
      "  warnings.warn(msg, DataConversionWarning)\n"
     ]
    }
   ],
   "source": [
    "# Feature Scaling\n",
    "\n",
    "from sklearn.preprocessing import StandardScaler\n",
    "sc = StandardScaler()\n",
    "x_train = sc.fit_transform(x_train)\n",
    "x_test = sc.transform(x_test)"
   ]
  },
  {
   "cell_type": "code",
   "execution_count": 8,
   "metadata": {},
   "outputs": [
    {
     "data": {
      "text/plain": [
       "DecisionTreeClassifier(class_weight=None, criterion='entropy', max_depth=None,\n",
       "            max_features=None, max_leaf_nodes=None,\n",
       "            min_impurity_decrease=0.0, min_impurity_split=None,\n",
       "            min_samples_leaf=1, min_samples_split=2,\n",
       "            min_weight_fraction_leaf=0.0, presort=False, random_state=6,\n",
       "            splitter='best')"
      ]
     },
     "execution_count": 8,
     "metadata": {},
     "output_type": "execute_result"
    }
   ],
   "source": [
    "# Fitting Decision Tree Classification to the Training set\n",
    "\n",
    "from sklearn.tree import DecisionTreeClassifier\n",
    "classifier = DecisionTreeClassifier(criterion = 'entropy', random_state = 6)\n",
    "classifier.fit(x_train, y_train)"
   ]
  },
  {
   "cell_type": "code",
   "execution_count": 9,
   "metadata": {},
   "outputs": [
    {
     "data": {
      "text/plain": [
       "array([' False.', ' False.', ' False.', ..., ' False.', ' False.',\n",
       "       ' False.'], dtype=object)"
      ]
     },
     "execution_count": 9,
     "metadata": {},
     "output_type": "execute_result"
    }
   ],
   "source": [
    "# Predicting the Test set results\n",
    "\n",
    "y_pred = classifier.predict(x_test)\n",
    "y_pred"
   ]
  },
  {
   "cell_type": "code",
   "execution_count": 10,
   "metadata": {},
   "outputs": [
    {
     "data": {
      "text/plain": [
       "array([[1403,   40],\n",
       "       [  68,  156]], dtype=int64)"
      ]
     },
     "execution_count": 10,
     "metadata": {},
     "output_type": "execute_result"
    }
   ],
   "source": [
    "# Making the Confusion Matrix\n",
    "\n",
    "from sklearn.metrics import confusion_matrix\n",
    "cm = confusion_matrix(y_test, y_pred)\n",
    "cm"
   ]
  },
  {
   "cell_type": "code",
   "execution_count": 11,
   "metadata": {},
   "outputs": [
    {
     "data": {
      "text/plain": [
       "0.9352129574085183"
      ]
     },
     "execution_count": 11,
     "metadata": {},
     "output_type": "execute_result"
    }
   ],
   "source": [
    "# Accuracy score\n",
    "\n",
    "from sklearn import metrics\n",
    "metrics.accuracy_score(y_test, y_pred)"
   ]
  },
  {
   "cell_type": "code",
   "execution_count": 13,
   "metadata": {},
   "outputs": [],
   "source": [
    "# Importing the check dataset\n",
    "\n",
    "df_check = pd.read_csv('check.txt')\n",
    "x_check= df_check.iloc[:,1:].values"
   ]
  },
  {
   "cell_type": "code",
   "execution_count": 14,
   "metadata": {},
   "outputs": [],
   "source": [
    "# Encoding the 2nd , 3rd & 4th column of check dataset\n",
    "\n",
    "x_check[:,2]=labelencoder_x.fit_transform(x_check[:,2])\n",
    "x_check[:,3]=labelencoder_x.fit_transform(x_check[:,3])\n",
    "x_check[:,4]=labelencoder_x.fit_transform(x_check[:,4])"
   ]
  },
  {
   "cell_type": "code",
   "execution_count": 15,
   "metadata": {},
   "outputs": [
    {
     "data": {
      "text/plain": [
       "array([' True.', ' True.', ' True.', ' True.', ' True.', ' True.',\n",
       "       ' True.', ' True.', ' True.', ' True.', ' True.', ' True.',\n",
       "       ' True.', ' True.', ' True.', ' True.', ' True.', ' True.',\n",
       "       ' True.', ' True.', ' True.', ' True.', ' True.', ' True.',\n",
       "       ' True.', ' True.', ' True.', ' True.', ' True.', ' True.',\n",
       "       ' True.', ' True.', ' True.', ' True.', ' True.', ' True.',\n",
       "       ' True.', ' True.', ' True.', ' True.', ' True.', ' True.',\n",
       "       ' True.', ' True.', ' True.', ' True.', ' True.', ' True.',\n",
       "       ' True.', ' True.', ' True.', ' True.', ' True.', ' True.',\n",
       "       ' True.', ' True.', ' True.', ' True.', ' True.', ' True.',\n",
       "       ' True.', ' True.', ' True.', ' True.', ' True.', ' True.',\n",
       "       ' True.', ' True.', ' True.', ' True.', ' True.', ' True.',\n",
       "       ' True.', ' True.', ' True.', ' True.', ' True.', ' True.',\n",
       "       ' True.', ' True.', ' True.', ' True.', ' True.', ' True.',\n",
       "       ' True.', ' True.', ' True.', ' True.', ' True.', ' True.',\n",
       "       ' True.', ' True.', ' True.', ' True.', ' True.', ' True.',\n",
       "       ' True.', ' True.', ' True.', ' True.', ' True.', ' True.',\n",
       "       ' True.', ' True.', ' True.', ' True.', ' True.', ' True.',\n",
       "       ' True.', ' True.', ' True.', ' True.', ' True.', ' True.',\n",
       "       ' True.', ' True.', ' True.', ' True.', ' True.', ' True.',\n",
       "       ' True.', ' True.', ' True.', ' True.', ' True.', ' True.',\n",
       "       ' True.', ' True.', ' True.', ' True.', ' True.', ' True.',\n",
       "       ' True.', ' True.', ' True.', ' True.', ' True.', ' True.',\n",
       "       ' True.', ' True.', ' True.', ' True.', ' True.', ' True.',\n",
       "       ' True.', ' True.', ' True.', ' True.', ' True.', ' True.',\n",
       "       ' True.', ' True.', ' True.', ' True.', ' True.', ' True.',\n",
       "       ' True.', ' True.', ' True.', ' True.', ' True.', ' True.',\n",
       "       ' True.', ' True.', ' True.', ' True.', ' True.', ' True.',\n",
       "       ' True.', ' True.', ' True.', ' True.', ' True.', ' True.',\n",
       "       ' True.', ' True.', ' True.', ' True.', ' True.', ' True.',\n",
       "       ' True.', ' True.', ' True.', ' True.', ' True.', ' True.',\n",
       "       ' True.', ' True.', ' True.', ' True.', ' True.', ' True.',\n",
       "       ' True.', ' True.', ' True.', ' True.', ' True.', ' True.',\n",
       "       ' True.', ' True.', ' True.', ' True.', ' True.', ' True.',\n",
       "       ' True.', ' True.', ' True.', ' True.', ' True.', ' True.',\n",
       "       ' True.', ' True.', ' True.', ' True.', ' True.', ' True.',\n",
       "       ' True.', ' True.', ' True.', ' True.', ' True.', ' True.',\n",
       "       ' True.', ' True.', ' True.', ' True.', ' True.', ' True.',\n",
       "       ' True.', ' True.', ' True.', ' True.', ' True.', ' True.',\n",
       "       ' True.', ' True.', ' True.', ' True.', ' True.', ' True.',\n",
       "       ' True.', ' True.', ' True.', ' True.', ' True.', ' True.',\n",
       "       ' True.', ' True.', ' True.', ' True.', ' True.', ' True.',\n",
       "       ' True.', ' True.', ' True.', ' True.', ' True.', ' True.',\n",
       "       ' True.', ' True.', ' True.', ' True.', ' True.', ' True.',\n",
       "       ' True.', ' True.', ' True.', ' True.', ' True.', ' True.',\n",
       "       ' True.', ' True.', ' True.', ' True.', ' True.', ' True.',\n",
       "       ' True.', ' True.', ' True.', ' True.', ' True.', ' True.',\n",
       "       ' True.', ' True.', ' True.', ' True.', ' True.', ' True.',\n",
       "       ' True.', ' True.', ' True.', ' True.', ' True.', ' True.',\n",
       "       ' True.', ' True.', ' True.', ' True.', ' True.', ' True.',\n",
       "       ' True.', ' True.', ' True.', ' True.', ' True.', ' True.',\n",
       "       ' True.', ' True.', ' True.', ' True.', ' True.', ' True.',\n",
       "       ' True.', ' True.', ' True.', ' True.', ' True.', ' True.',\n",
       "       ' True.', ' True.', ' True.', ' True.', ' True.', ' True.',\n",
       "       ' True.', ' True.', ' True.', ' True.', ' True.', ' True.',\n",
       "       ' True.', ' True.', ' True.', ' True.'], dtype=object)"
      ]
     },
     "execution_count": 15,
     "metadata": {},
     "output_type": "execute_result"
    }
   ],
   "source": [
    "# Predicting the check set results\n",
    "\n",
    "y_check_pred = classifier.predict(x_check)\n",
    "y_check_pred"
   ]
  },
  {
   "cell_type": "code",
   "execution_count": null,
   "metadata": {},
   "outputs": [],
   "source": []
  },
  {
   "cell_type": "code",
   "execution_count": null,
   "metadata": {},
   "outputs": [],
   "source": []
  }
 ],
 "metadata": {
  "kernelspec": {
   "display_name": "Python 3",
   "language": "python",
   "name": "python3"
  },
  "language_info": {
   "codemirror_mode": {
    "name": "ipython",
    "version": 3
   },
   "file_extension": ".py",
   "mimetype": "text/x-python",
   "name": "python",
   "nbconvert_exporter": "python",
   "pygments_lexer": "ipython3",
   "version": "3.6.5"
  }
 },
 "nbformat": 4,
 "nbformat_minor": 2
}
